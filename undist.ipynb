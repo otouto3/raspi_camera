{
 "cells": [
  {
   "cell_type": "code",
   "execution_count": 11,
   "metadata": {},
   "outputs": [],
   "source": [
    "#!/usr/bin/env python\n",
    "# -*- coding: utf-8 -*-\n",
    "\n",
    "import numpy as np\n",
    "import cv2\n",
    "import os\n",
    "import glob\n",
    "\n",
    "%matplotlib inline\n",
    " \n",
    "import matplotlib.pyplot as plt\n",
    "import matplotlib.image as mpimg\n",
    "\n",
    "RESULT_DIR = \"./res/\"\n",
    "\n",
    "square_side_length = 23.0 # チェスボード内の正方形の1辺のサイズ(mm)\n",
    "grid_intersection_size = (9, 6) # チェスボード内の格子数\n",
    "\n",
    "pattern_points = np.zeros( (np.prod(grid_intersection_size), 3), np.float32 )\n",
    "pattern_points[:,:2] = np.indices(grid_intersection_size).T.reshape(-1, 2)\n",
    "pattern_points *= square_side_length\n",
    "object_points = []\n",
    "image_points = []\n",
    "\n",
    "camera_mat, dist_coef = [], []"
   ]
  },
  {
   "cell_type": "code",
   "execution_count": 12,
   "metadata": {},
   "outputs": [
    {
     "name": "stdout",
     "output_type": "stream",
     "text": [
      "6\n"
     ]
    }
   ],
   "source": [
    "images = glob.glob('./raw/*.jpg')\n",
    "#print(images)\n",
    "print(len(images))"
   ]
  },
  {
   "cell_type": "code",
   "execution_count": 13,
   "metadata": {},
   "outputs": [
    {
     "name": "stdout",
     "output_type": "stream",
     "text": [
      "[[521.86033463   0.         350.19575678]\n",
      " [  0.         521.3268691  216.34426383]\n",
      " [  0.           0.           1.        ]]\n",
      "[-0.40079413  0.13527366  0.00751431 -0.00292439  0.0128533 ]\n"
     ]
    }
   ],
   "source": [
    "camera_mat = np.loadtxt(\"K-chessboard.csv\", delimiter=',')\n",
    "dist_coef = np.loadtxt(\"d-chessboard.csv\", delimiter=',')\n",
    "print(camera_mat)\n",
    "print(dist_coef)"
   ]
  },
  {
   "cell_type": "code",
   "execution_count": 14,
   "metadata": {},
   "outputs": [
    {
     "name": "stdout",
     "output_type": "stream",
     "text": [
      "./res/20200615_235258.jpg\n",
      "./res/20200615_235249.jpg\n",
      "./res/20200615_235248.jpg\n",
      "./res/20200615_235245.jpg\n",
      "./res/20200615_235253.jpg\n",
      "./res/20200615_235257.jpg\n"
     ]
    }
   ],
   "source": [
    "for img_path in images:\n",
    "    img = cv2.imread(img_path)\n",
    "    h,  w = img.shape[:2]\n",
    "    newcameramtx, roi=cv2.getOptimalNewCameraMatrix(camera_mat,dist_coef,(w,h),1,(w,h))\n",
    "    undistort_image = cv2.undistort(img, camera_mat, dist_coef)\n",
    "    # undistort\n",
    "    dst = cv2.undistort(img, camera_mat, dist_coef, None, newcameramtx)\n",
    "\n",
    "    # crop the image\n",
    "    x,y,w,h = roi\n",
    "    dst = dst[y:y+h, x:x+w]\n",
    "    \n",
    "    #print(img_path) #./raw/20200615_235258.jpg\n",
    "    #print(img_path.split(\"/\")[2]) # 20200615_235258.jpg\n",
    "    filename = RESULT_DIR + img_path.split(\"/\")[2]\n",
    "    print(filename)\n",
    "    cv2.imwrite(filename, dst)"
   ]
  },
  {
   "cell_type": "code",
   "execution_count": 15,
   "metadata": {},
   "outputs": [
    {
     "name": "stdout",
     "output_type": "stream",
     "text": [
      "./raw/20200615_235258.jpg\n",
      "./res/20200615_235258.jpg\n",
      "./raw/20200615_235249.jpg\n",
      "./res/20200615_235249.jpg\n",
      "./raw/20200615_235248.jpg\n",
      "./res/20200615_235248.jpg\n",
      "./raw/20200615_235245.jpg\n",
      "./res/20200615_235245.jpg\n",
      "./raw/20200615_235253.jpg\n",
      "./res/20200615_235253.jpg\n",
      "./raw/20200615_235257.jpg\n",
      "./res/20200615_235257.jpg\n"
     ]
    }
   ],
   "source": [
    "for img_path in images:\n",
    "    print(img_path)\n",
    "    img = cv2.imread(img_path)\n",
    "    undistort_image = cv2.undistort(img, camera_mat, dist_coef)\n",
    "    filename = RESULT_DIR + img_path.split(\"/\")[2]\n",
    "    print(filename)\n",
    "    cv2.imwrite(filename, undistort_image)"
   ]
  },
  {
   "cell_type": "code",
   "execution_count": null,
   "metadata": {},
   "outputs": [],
   "source": []
  }
 ],
 "metadata": {
  "kernelspec": {
   "display_name": "Python 3.7.4 64-bit",
   "language": "python",
   "name": "python37464bit232db7e5eb454431a4abb2510e4f00e3"
  },
  "language_info": {
   "codemirror_mode": {
    "name": "ipython",
    "version": 3
   },
   "file_extension": ".py",
   "mimetype": "text/x-python",
   "name": "python",
   "nbconvert_exporter": "python",
   "pygments_lexer": "ipython3",
   "version": "3.7.4"
  }
 },
 "nbformat": 4,
 "nbformat_minor": 4
}
