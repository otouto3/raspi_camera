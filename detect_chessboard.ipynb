{
 "cells": [
  {
   "cell_type": "code",
   "execution_count": 8,
   "metadata": {},
   "outputs": [],
   "source": [
    "#!/usr/bin/env python\n",
    "# -*- coding: utf-8 -*-\n",
    "\n",
    "import numpy as np\n",
    "import cv2\n",
    "import os\n",
    "import glob\n",
    "\n",
    "%matplotlib inline\n",
    " \n",
    "import matplotlib.pyplot as plt\n",
    "import matplotlib.image as mpimg\n",
    "\n",
    "square_side_length = 23.0 # チェスボード内の正方形の1辺のサイズ(mm)\n",
    "grid_intersection_size = (9, 6) # チェスボード内の格子数\n",
    "\n",
    "pattern_points = np.zeros( (np.prod(grid_intersection_size), 3), np.float32 )\n",
    "pattern_points[:,:2] = np.indices(grid_intersection_size).T.reshape(-1, 2)\n",
    "pattern_points *= square_side_length\n",
    "object_points = []\n",
    "image_points = []\n",
    "\n",
    "camera_mat, dist_coef = [], []"
   ]
  },
  {
   "cell_type": "code",
   "execution_count": 9,
   "metadata": {},
   "outputs": [
    {
     "name": "stdout",
     "output_type": "stream",
     "text": [
      "28\n"
     ]
    }
   ],
   "source": [
    "images = glob.glob('./wide_angle_chessboard/*.jpg')\n",
    "print(len(images))"
   ]
  },
  {
   "cell_type": "code",
   "execution_count": 10,
   "metadata": {},
   "outputs": [
    {
     "name": "stdout",
     "output_type": "stream",
     "text": [
      "findChessboardCorners : True\n",
      "findChessboardCorners : True\n",
      "findChessboardCorners : True\n",
      "findChessboardCorners : True\n",
      "findChessboardCorners : True\n",
      "findChessboardCorners : True\n",
      "findChessboardCorners : True\n",
      "findChessboardCorners : True\n",
      "findChessboardCorners : True\n",
      "findChessboardCorners : True\n",
      "findChessboardCorners : True\n",
      "findChessboardCorners : True\n",
      "findChessboardCorners : True\n",
      "findChessboardCorners : True\n",
      "findChessboardCorners : False\n",
      "findChessboardCorners : True\n",
      "findChessboardCorners : True\n",
      "findChessboardCorners : True\n",
      "findChessboardCorners : True\n",
      "findChessboardCorners : True\n",
      "findChessboardCorners : True\n",
      "findChessboardCorners : True\n",
      "findChessboardCorners : True\n",
      "findChessboardCorners : True\n",
      "findChessboardCorners : True\n",
      "findChessboardCorners : True\n",
      "findChessboardCorners : True\n",
      "findChessboardCorners : True\n"
     ]
    }
   ],
   "source": [
    "for img_path in images:\n",
    "\n",
    "        frame = cv2.imread(img_path)\n",
    "        # チェスボード検出用にグレースケール画像へ変換\n",
    "        grayscale_image = cv2.cvtColor(frame, cv2.COLOR_RGB2GRAY)\n",
    "\n",
    "        # チェスボードのコーナーを検出\n",
    "        found, corner = cv2.findChessboardCorners(grayscale_image, grid_intersection_size)\n",
    "        #found, corner = cv2.findChessboardCorners(frame, grid_intersection_size)\n",
    "        if found == True:\n",
    "            print('findChessboardCorners : True')\n",
    "\n",
    "            # 現在のOpenCVではfindChessboardCorners()内で、cornerSubPix()相当の処理が実施されている？要確認\n",
    "            #term = (cv2.TERM_CRITERIA_EPS + cv2.TERM_CRITERIA_COUNT, 30, 0.1)\n",
    "            #cv2.cornerSubPix(grayscale_image, corner, (5,5), (-1,-1), term)\n",
    "            #cv2.drawChessboardCorners(grayscale_image, grid_intersection_size, corner, found)\n",
    "            image_points.append(corner)\n",
    "            object_points.append(pattern_points)\n",
    "\n",
    "            \n",
    "        if found == False:\n",
    "            print('findChessboardCorners : False')"
   ]
  },
  {
   "cell_type": "code",
   "execution_count": 11,
   "metadata": {},
   "outputs": [
    {
     "name": "stdout",
     "output_type": "stream",
     "text": [
      "calibrateCamera() start\n",
      "RMS =  0.6306923527019362\n",
      "K = \n",
      " [[512.27702586   0.         323.20273502]\n",
      " [  0.         510.45949391 232.43226068]\n",
      " [  0.           0.           1.        ]]\n",
      "d =  [-0.40665648  0.21677875  0.00162543 -0.00091249 -0.07384577]\n",
      "total error:  0.0810888370108942\n"
     ]
    }
   ],
   "source": [
    "if len(image_points) > 0:\n",
    "        # カメラ内部パラメータを計算\n",
    "        print('calibrateCamera() start')\n",
    "        rms, K, d, r, t = cv2.calibrateCamera(object_points,image_points,(frame.shape[1],frame.shape[0]),None,None)\n",
    "        #rms, K, d, r, t = cv2.fisheye.calibrate(object_points,image_points,(frame.shape[1],frame.shape[0]),None,None)\n",
    "        print(\"RMS = \", rms)\n",
    "        print(\"K = \\n\", K)\n",
    "        print(\"d = \", d.ravel())\n",
    "        np.savetxt(\"K-chessboard.csv\", K, delimiter =',',fmt=\"%0.14f\") #カメラ行列の保存\n",
    "        np.savetxt(\"d-chessboard.csv\", d, delimiter =',',fmt=\"%0.14f\") #歪み係数の保存\n",
    "\n",
    "        camera_mat = K\n",
    "        dist_coef = d\n",
    "\n",
    "        # 再投影誤差による評価\n",
    "        mean_error = 0\n",
    "        for i in range(len(object_points)):\n",
    "            image_points2, _ = cv2.projectPoints(object_points[i], r[i], t[i], camera_mat, dist_coef)\n",
    "            error = cv2.norm(image_points[i], image_points2, cv2.NORM_L2) / len(image_points2)\n",
    "            mean_error += error\n",
    "        print(\"total error: \", mean_error/len(object_points)) # 0に近い値が望ましい(魚眼レンズの評価には不適？)"
   ]
  },
  {
   "cell_type": "code",
   "execution_count": null,
   "metadata": {},
   "outputs": [],
   "source": []
  },
  {
   "cell_type": "code",
   "execution_count": null,
   "metadata": {},
   "outputs": [],
   "source": []
  }
 ],
 "metadata": {
  "kernelspec": {
   "display_name": "Python 3.7.4 64-bit",
   "language": "python",
   "name": "python37464bit232db7e5eb454431a4abb2510e4f00e3"
  },
  "language_info": {
   "codemirror_mode": {
    "name": "ipython",
    "version": 3
   },
   "file_extension": ".py",
   "mimetype": "text/x-python",
   "name": "python",
   "nbconvert_exporter": "python",
   "pygments_lexer": "ipython3",
   "version": "3.7.4"
  }
 },
 "nbformat": 4,
 "nbformat_minor": 4
}
